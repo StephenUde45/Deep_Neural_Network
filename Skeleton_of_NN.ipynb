{
 "cells": [
  {
   "cell_type": "code",
   "execution_count": 1,
   "metadata": {},
   "outputs": [],
   "source": [
    "import torch # Core torch module\n",
    "\n",
    "# x = torch.Tensor([5,3]) # A tensor is an array\n",
    "# y = torch.Tensor([2,1])\n",
    "# x = torch.zeros([2,5]) # Creates an array with just zeros\n",
    "\n",
    "# y = y.view # Will convert the 2,1 matrix into a single dimensional array "
   ]
  },
  {
   "cell_type": "code",
   "execution_count": 2,
   "metadata": {},
   "outputs": [],
   "source": [
    "import torchvision # Provides vision data for preprocessing\n",
    "from torchvision import transforms, datasets # Dealing with datasets and transforming them so the NN can intake the data"
   ]
  },
  {
   "cell_type": "code",
   "execution_count": 46,
   "metadata": {},
   "outputs": [
    {
     "name": "stdout",
     "output_type": "stream",
     "text": [
      "[tensor([[[[0., 0., 0.,  ..., 0., 0., 0.],\n",
      "          [0., 0., 0.,  ..., 0., 0., 0.],\n",
      "          [0., 0., 0.,  ..., 0., 0., 0.],\n",
      "          ...,\n",
      "          [0., 0., 0.,  ..., 0., 0., 0.],\n",
      "          [0., 0., 0.,  ..., 0., 0., 0.],\n",
      "          [0., 0., 0.,  ..., 0., 0., 0.]]],\n",
      "\n",
      "\n",
      "        [[[0., 0., 0.,  ..., 0., 0., 0.],\n",
      "          [0., 0., 0.,  ..., 0., 0., 0.],\n",
      "          [0., 0., 0.,  ..., 0., 0., 0.],\n",
      "          ...,\n",
      "          [0., 0., 0.,  ..., 0., 0., 0.],\n",
      "          [0., 0., 0.,  ..., 0., 0., 0.],\n",
      "          [0., 0., 0.,  ..., 0., 0., 0.]]],\n",
      "\n",
      "\n",
      "        [[[0., 0., 0.,  ..., 0., 0., 0.],\n",
      "          [0., 0., 0.,  ..., 0., 0., 0.],\n",
      "          [0., 0., 0.,  ..., 0., 0., 0.],\n",
      "          ...,\n",
      "          [0., 0., 0.,  ..., 0., 0., 0.],\n",
      "          [0., 0., 0.,  ..., 0., 0., 0.],\n",
      "          [0., 0., 0.,  ..., 0., 0., 0.]]],\n",
      "\n",
      "\n",
      "        ...,\n",
      "\n",
      "\n",
      "        [[[0., 0., 0.,  ..., 0., 0., 0.],\n",
      "          [0., 0., 0.,  ..., 0., 0., 0.],\n",
      "          [0., 0., 0.,  ..., 0., 0., 0.],\n",
      "          ...,\n",
      "          [0., 0., 0.,  ..., 0., 0., 0.],\n",
      "          [0., 0., 0.,  ..., 0., 0., 0.],\n",
      "          [0., 0., 0.,  ..., 0., 0., 0.]]],\n",
      "\n",
      "\n",
      "        [[[0., 0., 0.,  ..., 0., 0., 0.],\n",
      "          [0., 0., 0.,  ..., 0., 0., 0.],\n",
      "          [0., 0., 0.,  ..., 0., 0., 0.],\n",
      "          ...,\n",
      "          [0., 0., 0.,  ..., 0., 0., 0.],\n",
      "          [0., 0., 0.,  ..., 0., 0., 0.],\n",
      "          [0., 0., 0.,  ..., 0., 0., 0.]]],\n",
      "\n",
      "\n",
      "        [[[0., 0., 0.,  ..., 0., 0., 0.],\n",
      "          [0., 0., 0.,  ..., 0., 0., 0.],\n",
      "          [0., 0., 0.,  ..., 0., 0., 0.],\n",
      "          ...,\n",
      "          [0., 0., 0.,  ..., 0., 0., 0.],\n",
      "          [0., 0., 0.,  ..., 0., 0., 0.],\n",
      "          [0., 0., 0.,  ..., 0., 0., 0.]]]]), tensor([7, 2, 3, 3, 5, 9, 2, 9, 2, 3, 3, 5, 7, 2, 6, 0, 8, 8, 9, 7, 8, 3, 8, 2,\n",
      "        5, 7, 0, 2, 3, 1, 4, 8, 8, 6, 0, 6, 1, 0, 7, 4, 0, 4, 4, 8, 4, 4, 0, 1,\n",
      "        0, 8, 1, 6, 8, 5, 3, 5, 8, 3, 5, 9, 0, 2, 4, 4])]\n"
     ]
    }
   ],
   "source": [
    "# The \"\" means the dataset will be downloaded locally.\n",
    "# Our training data\n",
    "# MNIST is a 28x28 hand drawn numbers dataset from 0-9\n",
    "train = datasets.MNIST(\"\", train = True, download=True, transform = transforms.Compose([transforms.ToTensor()])) # Data is not naitivly in Tensor so we have to import it using transforms.ToTensor(). \n",
    "test = datasets.MNIST(\"\", train = False, download = True, transform = transforms.Compose([transforms.ToTensor()])) # Our Testing data\n",
    "\n",
    "# Batch size is the amount of data inputed into the neural network(Usually in multiples of 8)\n",
    "# Shuffle is to prevent the neural network from taking the easy way out or to generalize things too much\n",
    "# Batch_size and shuffle will have to be down manually if providing a personal datasheet\n",
    "trainset = torch.utils.data.DataLoader(train, batch_size=64, shuffle=True) # Loads the data from the train variable. \n",
    "testset = torch.utils.data.DataLoader(test, batch_size=64, shuffle=True)# Loads the data from the testing variable \n",
    "\n",
    "for data in trainset: # Iterates over the dataset.\n",
    "    print(data)\n",
    "    break\n",
    "x, y = data[0][0], data[1][0] #  It will contain a tensor of tensors of images and a tensor of tensors of labels\n",
    "\n",
    "# print(y)\n",
    "# print(x)"
   ]
  },
  {
   "cell_type": "code",
   "execution_count": 47,
   "metadata": {},
   "outputs": [
    {
     "data": {
      "image/png": "[encoded data removed]",
      "text/plain": [
       "<Figure size 640x480 with 1 Axes>"
      ]
     },
     "metadata": {},
     "output_type": "display_data"
    }
   ],
   "source": [
    "import matplotlib.pyplot as plt # Allows us to plot in python\n",
    "# Keep in mind with the shaping of the tensors when importing your own array\n",
    "# Usually looks like (torch.Size([1, 28, 28])). The one needs to be there to please pytorch libraries.\n",
    "\n",
    "plt.imshow(data[0][0].view(28,28)) # Shows the image from the dataset as a 28x28\n",
    "plt.show()"
   ]
  },
  {
   "cell_type": "code",
   "execution_count": 48,
   "metadata": {},
   "outputs": [
    {
     "name": "stdout",
     "output_type": "stream",
     "text": [
      "torch.Size([1, 28, 28])\n"
     ]
    }
   ],
   "source": [
    "print(data[0][0].shape) # prints the dimensions of the image"
   ]
  },
  {
   "cell_type": "code",
   "execution_count": 49,
   "metadata": {},
   "outputs": [
    {
     "name": "stdout",
     "output_type": "stream",
     "text": [
      "{0: 5923, 1: 6742, 2: 5958, 3: 6131, 4: 5842, 5: 5421, 6: 5918, 7: 6265, 8: 5851, 9: 5949}\n"
     ]
    }
   ],
   "source": [
    "total = 0\n",
    "counter_dict = {0:0, 1:0, 2:0, 3:0, 4:0, 5:0, 6:0, 7:0, 8:0, 9:0,} # Creates a dictionary that tells us if the dataset is balanced \n",
    "for data in trainset: # Interates over the data and prints it out.\n",
    "    Xs, ys = data\n",
    "    for y in ys:\n",
    "        counter_dict[int(y)] += 1\n",
    "        total += 1\n",
    "\n",
    "print(counter_dict)"
   ]
  },
  {
   "cell_type": "code",
   "execution_count": 50,
   "metadata": {},
   "outputs": [
    {
     "name": "stdout",
     "output_type": "stream",
     "text": [
      "0: 9.871666666666666\n",
      "1: 11.236666666666666\n",
      "2: 9.93\n",
      "3: 10.218333333333334\n",
      "4: 9.736666666666666\n",
      "5: 9.035\n",
      "6: 9.863333333333333\n",
      "7: 10.441666666666666\n",
      "8: 9.751666666666667\n",
      "9: 9.915000000000001\n"
     ]
    }
   ],
   "source": [
    "for i in counter_dict: # Prints out 0-9 with the percentage of that number in the dataset. \n",
    "    print(f\"{i}: {counter_dict[i]/total*100}\")"
   ]
  },
  {
   "cell_type": "code",
   "execution_count": 51,
   "metadata": {},
   "outputs": [],
   "source": [
    "#---------------------------------------------------------------------------------------------------------------------\n",
    "# Neural Network code\n",
    "import torch.nn as nn # Object orientated part of torch.nn. (Used most of the time)\n",
    "import torch.nn.functional as F # Just the function part of torch.nn. (Used some of the time)"
   ]
  },
  {
   "cell_type": "code",
   "execution_count": 52,
   "metadata": {},
   "outputs": [
    {
     "name": "stdout",
     "output_type": "stream",
     "text": [
      "Net(\n",
      "  (fc1): Linear(in_features=784, out_features=64, bias=True)\n",
      "  (fc2): Linear(in_features=64, out_features=64, bias=True)\n",
      "  (fc3): Linear(in_features=64, out_features=64, bias=True)\n",
      "  (fc4): Linear(in_features=64, out_features=10, bias=True)\n",
      ")\n"
     ]
    }
   ],
   "source": [
    "class Net(nn.Module): # Neural networks are usually done in classes\n",
    "    def __init__(self):\n",
    "        super().__init__() # Super is in the nn.Module pack. Runs the initialization for nn.Module. It inherits methods from nn.Module\n",
    "        # The 28*28 is the extent of the input layer while the 64 is the extent of the hidden layer. EX: 28x28 (Flattened image). \n",
    "        # The output would be the target amount of neurons. EX: 64 neurons for x amount of layers\n",
    "        self.fc1 = nn.Linear(28*28, 64) # fc1 stands for fully connected layer 1. The input would be replaced with the size of the image. \n",
    "        self.fc2 = nn.Linear(64, 64) # The first 64 needs to take in 64 as the previous layer outputs 64. The second 64, which is the amount of neurons, can be any amount.\n",
    "        self.fc3 = nn.Linear(64, 64)\n",
    "        self.fc4 = nn.Linear(64, 10) # The 10 is the number of outputs desired. Change this value depending on the desired amount of outputs\n",
    "    def forward(self, x): # X represents the data passing through the neural network. Can throw in logic into this step. \n",
    "        x = F.relu(self.fc1(x)) # F.relu is the activation function from Pytorch. Basically it is saying if the neuron is firing/activating \n",
    "        x = F.relu(self.fc2(x))\n",
    "        x = F.relu(self.fc3(x))\n",
    "        x = self.fc4(x) # We just want to pass the data for the output\n",
    "        return F.log_softmax(x, dim=1) # log_softmax is a general optimizer for multi class. The dimension is assumed to be 1 most of the time. \n",
    "\n",
    "\n",
    "net = Net()\n",
    "print(net)"
   ]
  },
  {
   "cell_type": "code",
   "execution_count": 53,
   "metadata": {},
   "outputs": [
    {
     "name": "stdout",
     "output_type": "stream",
     "text": [
      "tensor([[4.4062e-01, 9.5609e-01, 3.6271e-01, 4.1446e-01, 7.2801e-02, 2.5703e-01,\n",
      "         9.6516e-01, 3.7933e-01, 8.6178e-02, 3.5573e-01, 9.8729e-02, 9.7505e-01,\n",
      "         5.6597e-01, 1.8392e-01, 6.8762e-01, 6.1951e-01, 9.3889e-01, 8.5474e-01,\n",
      "         4.1956e-01, 9.4301e-02, 6.9385e-01, 3.3884e-01, 5.6603e-01, 5.8345e-01,\n",
      "         5.0146e-01, 5.7038e-01, 5.7445e-01, 7.0838e-02, 2.5942e-01, 3.3970e-02,\n",
      "         2.4056e-01, 2.3967e-01, 3.3454e-01, 3.0323e-01, 3.7744e-01, 9.4922e-01,\n",
      "         3.4932e-01, 5.8992e-02, 9.7531e-01, 8.4144e-01, 6.0111e-01, 5.7401e-02,\n",
      "         5.9169e-01, 9.0651e-01, 4.1575e-01, 6.7880e-01, 4.5628e-01, 9.7668e-02,\n",
      "         4.0395e-01, 9.8240e-02, 7.7984e-01, 5.0411e-01, 1.3547e-01, 7.2459e-01,\n",
      "         7.0555e-02, 9.3243e-01, 7.3857e-01, 6.5866e-01, 3.2578e-01, 4.9466e-01,\n",
      "         3.4987e-01, 8.1107e-01, 8.5789e-01, 4.8138e-01, 5.8848e-01, 7.9477e-01,\n",
      "         9.7852e-01, 4.8040e-02, 8.3051e-01, 7.0623e-01, 2.4039e-02, 8.7165e-01,\n",
      "         2.3434e-01, 1.8191e-01, 5.5393e-01, 6.4455e-01, 3.5032e-01, 9.7179e-01,\n",
      "         7.8326e-01, 5.7433e-01, 4.2423e-01, 7.5397e-02, 9.2422e-01, 9.3182e-01,\n",
      "         3.6007e-01, 2.9582e-01, 8.0802e-01, 7.6590e-01, 5.9670e-01, 4.6088e-01,\n",
      "         9.7617e-01, 4.7905e-01, 1.7752e-01, 6.4708e-01, 2.8776e-01, 3.0817e-01,\n",
      "         9.0578e-01, 4.3035e-01, 5.0358e-01, 1.4224e-01, 6.4659e-01, 8.1951e-01,\n",
      "         4.4639e-01, 3.8700e-01, 5.4482e-01, 9.9254e-01, 6.4011e-01, 4.7649e-01,\n",
      "         2.6182e-01, 3.7070e-01, 9.9380e-01, 7.1190e-01, 7.3763e-01, 4.6339e-01,\n",
      "         6.3419e-01, 7.2230e-01, 9.5724e-01, 9.9309e-01, 5.1757e-01, 5.5538e-02,\n",
      "         9.2742e-01, 4.4618e-01, 8.7372e-01, 8.6356e-01, 1.1631e-02, 4.5353e-01,\n",
      "         3.0995e-01, 3.8792e-01, 3.0365e-01, 4.5371e-01, 6.5576e-01, 3.2829e-01,\n",
      "         3.1643e-01, 8.0082e-01, 1.5150e-02, 7.9486e-01, 6.3881e-01, 1.8062e-01,\n",
      "         8.8604e-01, 9.9101e-01, 8.5607e-01, 9.8287e-01, 5.3457e-01, 9.9781e-01,\n",
      "         2.7343e-01, 6.9826e-01, 5.8168e-01, 5.3408e-02, 6.6195e-01, 9.1566e-01,\n",
      "         2.5283e-01, 5.3598e-01, 1.7171e-01, 2.4331e-01, 3.2548e-01, 1.7924e-01,\n",
      "         9.3288e-01, 4.6624e-01, 4.0468e-01, 2.0007e-03, 5.1953e-01, 2.9515e-01,\n",
      "         9.2308e-01, 5.1506e-01, 4.4697e-01, 8.3621e-01, 4.1857e-01, 6.0307e-01,\n",
      "         8.7238e-01, 2.1819e-02, 4.8898e-01, 5.9903e-01, 3.8628e-01, 1.0699e-01,\n",
      "         7.0825e-01, 9.1560e-01, 8.0307e-01, 7.6545e-01, 1.9327e-01, 2.6027e-01,\n",
      "         9.5043e-01, 5.1466e-01, 4.2739e-01, 8.8449e-01, 2.4338e-01, 5.1787e-01,\n",
      "         8.5108e-01, 7.6632e-01, 4.5963e-01, 3.8307e-01, 6.2905e-01, 2.0921e-01,\n",
      "         3.6126e-01, 5.1923e-01, 3.5757e-01, 4.8598e-01, 6.0670e-01, 6.6496e-01,\n",
      "         1.6576e-04, 7.7707e-01, 4.3463e-01, 7.9483e-01, 3.7606e-01, 3.4170e-01,\n",
      "         5.1186e-01, 3.8394e-01, 7.7279e-01, 8.6497e-01, 1.1377e-01, 3.0995e-01,\n",
      "         8.0364e-01, 5.4705e-01, 1.7453e-01, 4.6062e-01, 7.1737e-01, 2.1412e-01,\n",
      "         7.2702e-01, 7.0994e-01, 3.9177e-02, 2.5084e-01, 8.9201e-01, 4.1326e-01,\n",
      "         7.6335e-02, 8.7383e-01, 8.1316e-01, 9.9538e-01, 5.9271e-01, 9.0708e-01,\n",
      "         6.9308e-01, 8.1641e-01, 4.1738e-01, 9.2966e-01, 7.1019e-01, 6.4023e-01,\n",
      "         3.8075e-01, 6.7023e-01, 2.3170e-01, 4.5398e-01, 9.8019e-02, 8.4456e-01,\n",
      "         5.9754e-01, 7.2980e-01, 9.2695e-01, 1.9062e-01, 7.4652e-01, 8.3320e-01,\n",
      "         1.9942e-01, 7.8743e-01, 7.5122e-01, 5.8477e-01, 4.6196e-01, 4.0852e-01,\n",
      "         6.3979e-01, 3.7110e-01, 2.2344e-01, 2.7201e-01, 7.5721e-01, 7.4129e-01,\n",
      "         7.3056e-01, 8.7344e-01, 4.4556e-01, 9.3158e-01, 9.1387e-01, 7.6090e-03,\n",
      "         4.4222e-01, 8.0542e-01, 4.1428e-01, 4.1599e-01, 9.7039e-01, 3.8945e-01,\n",
      "         3.2369e-02, 5.4030e-01, 9.7511e-02, 7.1162e-01, 3.2914e-01, 2.5638e-01,\n",
      "         5.2176e-01, 2.0302e-01, 7.0177e-01, 9.8356e-01, 8.4727e-01, 2.4909e-01,\n",
      "         5.0633e-01, 9.3166e-02, 9.6587e-01, 2.4079e-01, 2.8561e-01, 4.2857e-01,\n",
      "         6.2323e-02, 6.5102e-01, 6.4293e-03, 5.9935e-01, 7.2413e-02, 9.3049e-01,\n",
      "         6.5589e-01, 7.6341e-01, 9.1976e-01, 2.0087e-01, 8.5027e-01, 8.4521e-02,\n",
      "         3.5207e-01, 4.0262e-01, 1.5265e-02, 1.5756e-01, 8.1572e-01, 2.7243e-01,\n",
      "         6.4870e-01, 5.6941e-01, 2.3036e-01, 5.6068e-01, 1.1366e-01, 4.5750e-01,\n",
      "         1.0376e-02, 5.6760e-01, 7.3073e-01, 7.4477e-01, 1.5923e-01, 2.0978e-01,\n",
      "         4.9817e-01, 2.1861e-01, 3.4848e-01, 8.7073e-01, 9.6408e-01, 2.7109e-02,\n",
      "         2.1094e-01, 4.0294e-01, 6.5886e-01, 5.3667e-01, 9.7907e-01, 7.5576e-01,\n",
      "         7.1460e-01, 1.4181e-01, 8.3389e-01, 5.6453e-01, 3.6569e-01, 3.3040e-01,\n",
      "         1.7102e-02, 4.6075e-01, 7.8725e-02, 2.3518e-03, 3.0452e-01, 1.7681e-02,\n",
      "         6.3820e-01, 4.0961e-01, 1.2632e-01, 5.8921e-02, 9.7953e-01, 2.9520e-01,\n",
      "         3.4088e-02, 1.6361e-01, 9.4742e-01, 8.2915e-01, 9.2273e-01, 9.7270e-01,\n",
      "         9.0502e-02, 8.8539e-01, 7.5167e-01, 2.7416e-01, 3.7030e-01, 4.7146e-01,\n",
      "         5.5366e-01, 6.4697e-01, 8.4466e-01, 1.1999e-01, 3.9511e-01, 5.6329e-02,\n",
      "         1.0757e-01, 1.5026e-01, 8.5984e-01, 3.0665e-01, 6.4306e-01, 9.0635e-01,\n",
      "         9.8586e-01, 1.7455e-02, 1.3938e-01, 6.1575e-01, 3.4145e-01, 3.5070e-01,\n",
      "         1.4245e-01, 7.3743e-01, 9.0731e-01, 2.1486e-01, 3.5944e-01, 4.9069e-01,\n",
      "         5.1116e-01, 5.2435e-01, 5.4773e-01, 2.2156e-01, 4.5005e-01, 1.5041e-01,\n",
      "         3.2304e-01, 8.6405e-01, 1.0452e-01, 7.8894e-01, 9.1779e-01, 4.0042e-01,\n",
      "         3.1297e-01, 6.0747e-01, 1.1354e-01, 3.9071e-01, 3.5097e-01, 1.6745e-01,\n",
      "         2.0581e-01, 8.5297e-01, 5.3302e-01, 4.2778e-01, 4.9596e-01, 2.2968e-01,\n",
      "         4.2974e-01, 7.0403e-01, 6.5175e-01, 2.1287e-01, 1.9669e-01, 7.3833e-01,\n",
      "         7.2498e-02, 2.3165e-01, 6.2871e-01, 7.7158e-01, 7.0166e-02, 9.5961e-01,\n",
      "         3.9960e-01, 8.2319e-01, 6.2186e-01, 8.4375e-01, 5.5121e-01, 8.0520e-01,\n",
      "         5.5594e-01, 1.3200e-01, 1.4116e-01, 9.1437e-01, 2.5915e-01, 3.7714e-01,\n",
      "         3.2192e-01, 6.2545e-01, 9.6690e-01, 6.7402e-01, 4.0242e-01, 4.6587e-01,\n",
      "         4.2771e-01, 9.3240e-01, 6.3119e-01, 7.6081e-01, 9.3963e-01, 8.7213e-01,\n",
      "         3.3946e-01, 4.3231e-01, 2.7096e-01, 1.9306e-01, 7.1652e-01, 8.9129e-01,\n",
      "         7.6898e-01, 3.3677e-01, 7.2625e-01, 9.7806e-01, 7.1110e-01, 9.7395e-01,\n",
      "         2.7329e-01, 6.5501e-01, 6.8448e-01, 7.8784e-01, 2.4930e-01, 9.7204e-01,\n",
      "         9.3329e-01, 9.0109e-01, 8.0810e-01, 9.3846e-01, 9.7516e-02, 1.8962e-03,\n",
      "         1.9792e-01, 7.2713e-01, 6.6797e-01, 7.1419e-01, 2.1708e-01, 2.4348e-01,\n",
      "         6.2345e-01, 1.6359e-01, 7.8744e-01, 5.1874e-01, 9.3802e-01, 3.0723e-01,\n",
      "         7.5438e-01, 1.4969e-01, 3.6080e-02, 3.6439e-01, 2.9135e-01, 1.4886e-01,\n",
      "         2.7083e-01, 8.7991e-01, 7.7146e-04, 8.6711e-02, 2.1335e-01, 2.6391e-01,\n",
      "         8.5056e-01, 2.0202e-01, 4.3803e-01, 4.9185e-02, 3.4461e-01, 5.9848e-01,\n",
      "         4.3421e-01, 8.8905e-01, 5.8050e-01, 5.3474e-01, 3.1824e-02, 2.5226e-01,\n",
      "         5.6099e-01, 9.9449e-01, 6.5089e-01, 5.9864e-01, 5.5178e-01, 3.2138e-03,\n",
      "         4.8006e-01, 9.7261e-01, 5.5586e-01, 7.2445e-01, 1.6652e-01, 8.1945e-01,\n",
      "         8.9886e-01, 7.3464e-01, 6.0655e-01, 5.1932e-01, 8.7414e-01, 7.2639e-01,\n",
      "         9.7604e-01, 6.9902e-01, 1.1161e-02, 4.7339e-01, 2.5802e-01, 4.7464e-01,\n",
      "         5.8678e-01, 6.4696e-01, 5.8375e-01, 2.2377e-01, 5.7016e-01, 2.4990e-01,\n",
      "         7.1132e-01, 8.8925e-01, 9.8873e-01, 3.6075e-01, 5.7721e-01, 1.3991e-01,\n",
      "         5.4582e-01, 3.8240e-01, 2.4784e-02, 1.4295e-01, 4.8392e-01, 2.3753e-01,\n",
      "         6.3030e-01, 9.4554e-01, 8.6238e-01, 1.2065e-01, 2.2721e-01, 5.8003e-01,\n",
      "         8.3848e-01, 1.8906e-01, 9.1598e-01, 1.8804e-01, 9.7950e-01, 7.4613e-01,\n",
      "         5.8310e-01, 9.7526e-01, 6.1513e-01, 7.2736e-01, 8.6998e-01, 7.7154e-01,\n",
      "         9.4120e-01, 3.8179e-01, 5.1921e-01, 3.1896e-01, 4.7186e-01, 4.2491e-01,\n",
      "         7.8283e-01, 4.2402e-01, 6.9435e-01, 4.6446e-01, 4.3996e-01, 5.5056e-01,\n",
      "         4.0030e-01, 2.4466e-01, 3.7347e-01, 5.5979e-02, 4.3275e-01, 6.8026e-01,\n",
      "         1.7856e-01, 9.4599e-01, 1.0624e-01, 1.8050e-01, 7.1494e-01, 8.8151e-01,\n",
      "         1.9664e-03, 3.7596e-01, 6.0776e-01, 5.4567e-01, 5.1505e-01, 4.7612e-02,\n",
      "         3.8782e-01, 4.2674e-01, 9.3368e-01, 4.0718e-01, 3.4021e-01, 8.3626e-03,\n",
      "         5.4490e-01, 5.5397e-01, 8.9540e-01, 7.3970e-01, 3.0163e-01, 4.5578e-01,\n",
      "         3.6533e-01, 1.6531e-01, 3.2119e-01, 9.5394e-01, 4.3000e-01, 8.5233e-01,\n",
      "         2.5738e-01, 2.8483e-01, 6.2620e-01, 3.9777e-01, 2.5512e-01, 1.0211e-01,\n",
      "         7.8169e-01, 1.7547e-01, 1.8590e-01, 1.0158e-01, 7.8260e-01, 8.4712e-01,\n",
      "         5.6392e-01, 4.9066e-01, 1.1744e-01, 1.6149e-01, 5.0646e-02, 4.2649e-02,\n",
      "         7.8883e-01, 3.0363e-01, 5.2918e-01, 4.1811e-01, 7.2240e-01, 9.0438e-01,\n",
      "         2.6521e-01, 9.9994e-01, 9.3903e-01, 9.1269e-01, 7.6349e-01, 9.8355e-01,\n",
      "         7.4210e-01, 2.3521e-01, 9.5360e-01, 3.9243e-02, 5.9953e-01, 6.9514e-01,\n",
      "         4.8954e-02, 8.9750e-01, 7.1378e-01, 7.3754e-01, 2.2404e-01, 3.8652e-01,\n",
      "         6.1117e-01, 1.3728e-01, 2.6126e-01, 4.1369e-01, 8.5027e-01, 7.5757e-01,\n",
      "         6.2223e-01, 1.6037e-03, 1.2485e-01, 4.2412e-01, 9.4898e-01, 4.0918e-01,\n",
      "         5.1436e-01, 9.0719e-01, 7.7601e-01, 1.2931e-01, 9.8347e-01, 9.7170e-01,\n",
      "         4.4728e-01, 4.5120e-01, 7.4083e-01, 1.9845e-01, 8.2724e-01, 9.7423e-01,\n",
      "         4.5143e-01, 7.0791e-01, 1.9172e-01, 6.4411e-01, 3.1190e-01, 9.8535e-01,\n",
      "         7.2279e-01, 4.0971e-01, 9.4049e-01, 4.2288e-01, 8.9351e-01, 1.8431e-01,\n",
      "         8.5336e-01, 3.2571e-02, 3.7062e-02, 3.2373e-01, 6.0745e-01, 6.0333e-01,\n",
      "         2.5006e-01, 2.5622e-01, 6.5604e-01, 3.4834e-01, 6.2773e-01, 2.3141e-01,\n",
      "         3.6781e-01, 3.0720e-01, 5.6770e-01, 5.8550e-01, 6.8103e-01, 5.1042e-01,\n",
      "         1.0950e-01, 7.1770e-01, 1.1378e-01, 7.7454e-01, 5.7015e-01, 6.9684e-01,\n",
      "         5.7155e-04, 3.1592e-01, 8.3366e-01, 4.6934e-01, 5.5596e-01, 6.1946e-01,\n",
      "         8.8972e-01, 2.5515e-01, 2.5095e-01, 4.2155e-01, 5.9990e-01, 6.9064e-01,\n",
      "         2.4892e-01, 2.3801e-01, 2.5070e-01, 9.9501e-01, 8.8463e-01, 3.1157e-01,\n",
      "         5.3072e-01, 9.4059e-01, 3.4398e-01, 1.1006e-01, 8.5186e-01, 2.3607e-01,\n",
      "         5.2040e-01, 6.4946e-01, 1.9689e-01, 9.0645e-01, 5.0974e-01, 9.9358e-01,\n",
      "         4.9022e-01, 7.1354e-01, 7.3192e-01, 9.6146e-01, 6.7772e-02, 2.6079e-01,\n",
      "         3.7801e-01, 6.4287e-01, 4.9412e-01, 1.9158e-01, 1.5454e-01, 8.1754e-02,\n",
      "         8.0233e-02, 2.1333e-01, 9.2187e-01, 5.3622e-01, 5.6749e-01, 2.3328e-01,\n",
      "         3.9077e-01, 3.4358e-01, 2.5031e-01, 4.9618e-01, 9.7328e-01, 7.1202e-01,\n",
      "         3.0695e-03, 7.6495e-03, 9.6466e-01, 5.5142e-01, 5.3986e-01, 2.4011e-01,\n",
      "         2.3658e-02, 1.4924e-01, 6.3607e-01, 4.7428e-01, 4.5194e-01, 5.0720e-02,\n",
      "         6.1226e-01, 9.1532e-01, 4.3449e-01, 1.6545e-01]])\n"
     ]
    }
   ],
   "source": [
    "X = torch.rand((28, 28)) # Mimics an actual image to test the layers. 28x28 states the dimensions. \n",
    "# print(X) \n",
    "X = X.view(-1, 28*28) # Needs to be like this for the libraries. The -1 specifies the input will be of an unknown shape. Also works with 1 as it is a 1x28x28 sized array.\n",
    "\n",
    "print(X) # Passes information through the neural network"
   ]
  },
  {
   "cell_type": "code",
   "execution_count": 54,
   "metadata": {},
   "outputs": [
    {
     "name": "stdout",
     "output_type": "stream",
     "text": [
      "tensor(0.2904, grad_fn=<NllLossBackward0>)\n",
      "tensor(0.1440, grad_fn=<NllLossBackward0>)\n",
      "tensor(0.0153, grad_fn=<NllLossBackward0>)\n"
     ]
    }
   ],
   "source": [
    "import torch.optim as optim # Is the library for the optimizer and loss\n",
    "# The 0.001 can also be represented as 1e-3\n",
    "# the learning rate number is the size of the step that the optimiser will take to get to the best place when passing data through the neural network\n",
    "# Usually people use the decaying rate where the the ml model takes big leaps in learning then progressively gets smaller and smaller \n",
    "optimizer = optim.Adam(net.parameters(), lr = 0.001) # .Adam takes in two parameters: one being the net.parameters which corresponds to everything that is adjustable in our model and lr (Learning rate). \n",
    "\n",
    "EPOCHS = 3 # Means 3 full passes through the dataset\n",
    "\n",
    "for epoch in range(EPOCHS): # Iterates through the number associated in EPOCHS \n",
    "    for data in trainset: # Data is a batch of feature sets and labels\n",
    "        X, y = data \n",
    "        net.zero_grad() # This clears out the old gradients from the previous batch as it would accumulate otherwise which will lead to incorrect updates\n",
    "        output = net(X.view(-1, 28*28)) # Reshapes the input tensor x so it is suitable for input into the neural network\n",
    "        loss = F.nll_loss(output, y) # Calculates the loss of the neural network. If the dataset value is a scalar value, use nll_loss. If the dataset value is a hot vector(Ex: (0,0,1,0)), use means_square_error.\n",
    "        loss.backward() # back propagates for us\n",
    "        optimizer.step() # Adjust the weights for us. \n",
    "\n",
    "    print(loss) # If loss is going down, that is good"
   ]
  },
  {
   "cell_type": "code",
   "execution_count": 56,
   "metadata": {},
   "outputs": [
    {
     "name": "stdout",
     "output_type": "stream",
     "text": [
      "Accuracy 0.973\n"
     ]
    }
   ],
   "source": [
    "# To see how correct we are\n",
    "correct = 0 \n",
    "total = 0\n",
    "\n",
    "with torch.no_grad(): # We do not want to calculate gradients. We just want to know how good the network is.\n",
    "    for data in trainset: # iterates over the batches of data in the training set\n",
    "        X, y = data\n",
    "        output = net(X.view(-1, 784)) # The 784 came from the original dimensions of 28x28 which is 784. You can also use 28*28 too.\n",
    "        for idx, i in enumerate(output): # Iterates over the prediction made by the neural network for the current batch. The idx is the index of the prediction and i is the actual predicted tensor for each sample\n",
    "            if torch.argmax(i) == y[idx]: # Checks if the index of the maximum value(the predicted class) equals the true label at the same index\n",
    "                correct += 1\n",
    "            total += 1\n",
    "print(\"Accuracy\", round(correct/total, 3)) # Calculates the accuracy percentage\n",
    "# High percentage in actual real implementations of neural network is not really practical but for this dataset, it is ok as it is an easy one."
   ]
  },
  {
   "cell_type": "code",
   "execution_count": 61,
   "metadata": {},
   "outputs": [
    {
     "data": {
      "image/png": "[encoded data removed]",
      "text/plain": [
       "<Figure size 640x480 with 1 Axes>"
      ]
     },
     "metadata": {},
     "output_type": "display_data"
    }
   ],
   "source": [
    "plt.imshow(X[0].view(28,28)) # Prints the number associated to the 0 index\n",
    "plt.show()\n"
   ]
  },
  {
   "cell_type": "code",
   "execution_count": 62,
   "metadata": {},
   "outputs": [
    {
     "name": "stdout",
     "output_type": "stream",
     "text": [
      "tensor(0)\n"
     ]
    }
   ],
   "source": [
    "print(torch.argmax(net(X[0].view(-1,28*28))[0])) # Predicts what the above image is. In this case, it is a zero."
   ]
  },
  {
   "cell_type": "code",
   "execution_count": 63,
   "metadata": {},
   "outputs": [
    {
     "data": {
      "image/png": "[encoded data removed]",
      "text/plain": [
       "<Figure size 640x480 with 1 Axes>"
      ]
     },
     "metadata": {},
     "output_type": "display_data"
    }
   ],
   "source": [
    "plt.imshow(X[1].view(28,28)) # Prints the number associated to the index 1\n",
    "plt.show()\n"
   ]
  },
  {
   "cell_type": "code",
   "execution_count": 64,
   "metadata": {},
   "outputs": [
    {
     "name": "stdout",
     "output_type": "stream",
     "text": [
      "tensor(4)\n"
     ]
    }
   ],
   "source": [
    "print(torch.argmax(net(X[1].view(-1,28*28))[0])) # Predicts what the number above is. It is 4. "
   ]
  },
  {
   "cell_type": "code",
   "execution_count": 65,
   "metadata": {},
   "outputs": [
    {
     "data": {
      "image/png": "[encoded data removed]",
      "text/plain": [
       "<Figure size 640x480 with 1 Axes>"
      ]
     },
     "metadata": {},
     "output_type": "display_data"
    }
   ],
   "source": [
    "plt.imshow(X[2].view(28,28)) # Prints the number associated to the index 2\n",
    "plt.show()"
   ]
  },
  {
   "cell_type": "code",
   "execution_count": 66,
   "metadata": {},
   "outputs": [
    {
     "name": "stdout",
     "output_type": "stream",
     "text": [
      "tensor(5)\n"
     ]
    }
   ],
   "source": [
    "print(torch.argmax(net(X[2].view(-1,28*28))[0])) # Predicts what the number above is. It is 5. "
   ]
  },
  {
   "cell_type": "code",
   "execution_count": 68,
   "metadata": {},
   "outputs": [
    {
     "data": {
      "image/png": "[encoded data removed]",
      "text/plain": [
       "<Figure size 640x480 with 1 Axes>"
      ]
     },
     "metadata": {},
     "output_type": "display_data"
    }
   ],
   "source": [
    "plt.imshow(X[3].view(28,28)) # Prints the number associated to the index 3\n",
    "plt.show()"
   ]
  },
  {
   "cell_type": "code",
   "execution_count": 70,
   "metadata": {},
   "outputs": [
    {
     "name": "stdout",
     "output_type": "stream",
     "text": [
      "tensor(1)\n"
     ]
    }
   ],
   "source": [
    "print(torch.argmax(net(X[3].view(-1,28*28))[0]))# Predicts what the number above is. It is 1. "
   ]
  },
  {
   "cell_type": "code",
   "execution_count": 71,
   "metadata": {},
   "outputs": [
    {
     "data": {
      "image/png": "[encoded data removed]",
      "text/plain": [
       "<Figure size 640x480 with 1 Axes>"
      ]
     },
     "metadata": {},
     "output_type": "display_data"
    }
   ],
   "source": [
    "plt.imshow(X[4].view(28,28)) # Prints the number associated to the index 4\n",
    "plt.show()"
   ]
  },
  {
   "cell_type": "code",
   "execution_count": 72,
   "metadata": {},
   "outputs": [
    {
     "name": "stdout",
     "output_type": "stream",
     "text": [
      "tensor(6)\n"
     ]
    }
   ],
   "source": [
    "print(torch.argmax(net(X[4].view(-1,28*28))[0]))# Predicts what the number above is. It is 6."
   ]
  },
  {
   "cell_type": "code",
   "execution_count": null,
   "metadata": {},
   "outputs": [],
   "source": []
  }
 ],
 "metadata": {
  "kernelspec": {
   "display_name": "Python 3",
   "language": "python",
   "name": "python3"
  },
  "language_info": {
   "codemirror_mode": {
    "name": "ipython",
    "version": 3
   },
   "file_extension": ".py",
   "mimetype": "text/x-python",
   "name": "python",
   "nbconvert_exporter": "python",
   "pygments_lexer": "ipython3",
   "version": "3.11.9"
  }
 },
 "nbformat": 4,
 "nbformat_minor": 2
}
